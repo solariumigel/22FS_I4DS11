{
 "cells": [
  {
   "cell_type": "code",
   "execution_count": null,
   "metadata": {},
   "outputs": [],
   "source": [
    "import pandas as pd\n",
    "import os\n",
    "import analyseCommon as ac\n",
    "\n",
    "import sys\n",
    "sys.path.append('../service/')\n",
    "from common.NMerEncoder import NMerEncoder\n",
    "from regression.datenProvider import *\n",
    "\n",
    "file_path = '../data'\n",
    "\n",
    "filePath = os.path.join(file_path, 'APAfreq.tsv')\n",
    "data = pd.read_csv(filePath, sep=\"\\t\")\n",
    "\n",
    "# print(data.columns)\n",
    "# print(len(data[data['chromosome'] == 'chrY']['terminal exon'].unique()))\n",
    "# print(len(data[data['chromosome'] == 'chr11']['terminal exon'].unique()))\n",
    "\n",
    "\n",
    "# print(len(data[data['chromosome'] == 'chrY']['cleavage site'].unique()))\n",
    "# print(len(data[data['chromosome'] == 'chr11']['cleavage site'].unique()))\n",
    "\n",
    "# data['chromosome'].unique()"
   ]
  },
  {
   "cell_type": "code",
   "execution_count": null,
   "metadata": {},
   "outputs": [],
   "source": [
    "# import numpy as np\n",
    "# from common.SparseBatchEncoder import SparseBatchEncoder\n",
    "\n",
    "# encoder = NMerEncoder(n_mer_len=6, count_n_mers=True)\n",
    "\n",
    "# #'A', 'C', 'G', 'T'\n",
    "\n",
    "# sparse = SparseBatchEncoder(encoder, sparse_mode='col')\n",
    "\n",
    "# generated_input = np.concatenate([np.expand_dims(encoder(inp), axis=0) for inp in data.iloc[0]['sequence']], axis=0)\n",
    "\n",
    "# print(generated_input)\n",
    "# matrix = sparse('TTTTGC')\n",
    "# print(matrix)\n",
    "# len(matrix.toarray()[0])\n"
   ]
  },
  {
   "cell_type": "code",
   "execution_count": null,
   "metadata": {},
   "outputs": [],
   "source": [
    "ac.PrintLenOfDistinct(data, 'cleavage site')\n",
    "ac.PrintLenOfDistinct(data, 'frequency')"
   ]
  },
  {
   "cell_type": "code",
   "execution_count": null,
   "metadata": {},
   "outputs": [],
   "source": [
    "ac.PlotAnzahlTerminalExonsByChromosome(data)\n",
    "ac.PlotAnzahlCleavageSitesByChromosome(data)\n",
    "ac.AmountOfCGInSequence(data)\n",
    "ac.CountOfCromosoneFigure(data)\n",
    "\n",
    "ac.PlotAnzahlTerminalExonsByChromosome(data)\n",
    "ac.PlotAnzahlCleavageSitesByChromosome(data)\n",
    "ac.AmountOfCGInSequence(data)\n",
    "ac.CountOfCromosoneFigure(data)\n",
    "\n",
    "ac.DencityOfColumnPlot(data, 'frequency')\n",
    "\n",
    "ac.DencityOfColumnPlotByDirection(data, 'frequency', 'direction', 'Datenset1')\n"
   ]
  },
  {
   "cell_type": "code",
   "execution_count": null,
   "metadata": {},
   "outputs": [],
   "source": []
  }
 ],
 "metadata": {
  "kernelspec": {
   "display_name": "Python 3.7.9 64-bit",
   "language": "python",
   "name": "python3"
  },
  "language_info": {
   "codemirror_mode": {
    "name": "ipython",
    "version": 3
   },
   "file_extension": ".py",
   "mimetype": "text/x-python",
   "name": "python",
   "nbconvert_exporter": "python",
   "pygments_lexer": "ipython3",
   "version": "3.7.9"
  },
  "orig_nbformat": 4,
  "vscode": {
   "interpreter": {
    "hash": "9fdb4e86cf905439c190126afa5dfff7572cbc24e714a1fcd3617504d05d08cd"
   }
  }
 },
 "nbformat": 4,
 "nbformat_minor": 2
}

{
 "cells": [
  {
   "cell_type": "code",
   "execution_count": null,
   "metadata": {},
   "outputs": [],
   "source": [
    "import pandas as pd\n",
    "import os\n",
    "import numpy as np\n",
    "import analyseCommon as ac\n",
    "\n",
    "file_path = '../data'\n",
    "\n",
    "data_version = 'Grundarbeit'\n",
    "model_version = '6mer_v_pasaligned_margin'\n",
    "\n",
    "filePath = os.path.join(file_path, 'apa_plasmid_data_plasmid_df.csv')\n",
    "data = pd.read_csv(filePath, sep=\"\\t\")\n",
    "\n",
    "data['frequency'] = data['proximal_count'] / data['total_count']\n",
    "data['sequence'] = data['seq']\n",
    "data['direction'] = data['library_index'].apply(lambda x: '+' if x in [2, 5, 8, 11, 20, 40] else '-')\n",
    "\n",
    "ac.PlotNukleoideAroundCleavageSite(data)\n"
   ]
  },
  {
   "cell_type": "code",
   "execution_count": null,
   "metadata": {},
   "outputs": [],
   "source": [
    "# import pandas as pd\n",
    "# import seaborn as sns\n",
    "# import matplotlib.pyplot as plt\n",
    "# # df = pd.DataFrame(data,columns=mnist.feature_names)\n",
    "# # df['target']=target\n",
    "# # df['x']=x\n",
    "# # df['y']=y\n",
    "\n",
    "# plt.figure(figsize=(16,7))\n",
    "# sns.scatterplot(x='proximal_count',y='total_count',hue='library_index',palette=sns.color_palette(\"hls\",13),data=data,\n",
    "#                legend=\"full\")\n",
    "# plt.show()\n",
    "\n",
    "data['library_index']"
   ]
  },
  {
   "cell_type": "code",
   "execution_count": null,
   "metadata": {},
   "outputs": [],
   "source": [
    "# data.columns\n",
    "# print(data[data['frequency'] > 0.5]['frequency'].describe())\n",
    "# print(data[data['frequency'] <= 0.5]['frequency'].describe())\n",
    "# print(data['total_count'].describe())\n",
    "\n",
    "# data['sequence'].apply(len).describe()\n",
    "ac.DencityOfColumnPlotByDirection(data, 'frequency', directionColumn='direction', usageText='All')\n",
    "\n",
    "\n",
    "# ac.DencityOfColumnPlot(data, 'frequency')\n",
    "# data.head()\n",
    "\n",
    "\n",
    "# data['library'].unique()"
   ]
  },
  {
   "cell_type": "code",
   "execution_count": null,
   "metadata": {},
   "outputs": [],
   "source": [
    "# ac.DencityOfColumnPlot(data, 'frequency')\n",
    "# ac.PlotBar(data, 'library', 'Anzahl generierte Sequenzen')\n",
    "\n",
    "# print(data.columns)\n",
    "\n",
    "# print(data['library'].unique())\n",
    "\n",
    "\n",
    "\n",
    "# print(plasmid_df.columns)\n",
    "# print(len(plasmid_df))\n",
    "# print(len(plasmid_df['library'].unique()))\n",
    "\n",
    "# # print(plasmid_df['seq'].head().apply(len))\n",
    "# # print(plasmid_df['padded_seq'].head().apply(len))\n",
    "\n",
    "# # print(plasmid_df['upstream_padding'].head().apply(len))\n",
    "# # print(plasmid_df['downstream_padding'].head().apply(len))\n",
    "\n",
    "# print(plasmid_df[['proximal_count', 'distal_count']].describe())\n"
   ]
  },
  {
   "cell_type": "code",
   "execution_count": null,
   "metadata": {},
   "outputs": [],
   "source": [
    "data['sublibrary_index'].unique()\n",
    "\n",
    "print(data[['proximal_count', 'distal_count']].describe())\n",
    "\n"
   ]
  }
 ],
 "metadata": {
  "kernelspec": {
   "display_name": "Python 3.7.9 64-bit",
   "language": "python",
   "name": "python3"
  },
  "language_info": {
   "codemirror_mode": {
    "name": "ipython",
    "version": 3
   },
   "file_extension": ".py",
   "mimetype": "text/x-python",
   "name": "python",
   "nbconvert_exporter": "python",
   "pygments_lexer": "ipython3",
   "version": "3.7.9"
  },
  "orig_nbformat": 4,
  "vscode": {
   "interpreter": {
    "hash": "9fdb4e86cf905439c190126afa5dfff7572cbc24e714a1fcd3617504d05d08cd"
   }
  }
 },
 "nbformat": 4,
 "nbformat_minor": 2
}

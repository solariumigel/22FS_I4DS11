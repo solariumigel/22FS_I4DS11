{
 "cells": [
  {
   "cell_type": "code",
   "execution_count": 1,
   "metadata": {},
   "outputs": [],
   "source": [
    "import pandas as pd\n",
    "import os\n",
    "import numpy as np\n",
    "import analyseCommon as ac\n",
    "\n",
    "file_path = '../data'\n",
    "\n",
    "data_version = 'Grundarbeit'\n",
    "model_version = '6mer_v_pasaligned_margin'\n",
    "\n",
    "filePath = os.path.join(file_path, 'apa_plasmid_data_plasmid_df.csv')\n",
    "data = pd.read_csv(filePath, sep=\"\\t\")\n",
    "\n",
    "data['frequency'] = data['proximal_count'] / data['total_count']\n",
    "data['sequence'] = data['seq']\n",
    "data['direction'] = data['library_index'].apply(lambda x: '+' if x in [2, 5, 8, 11, 20, 40] else '-')\n"
   ]
  },
  {
   "cell_type": "code",
   "execution_count": 1,
   "metadata": {},
   "outputs": [
    {
     "ename": "NameError",
     "evalue": "name 'data' is not defined",
     "output_type": "error",
     "traceback": [
      "\u001b[1;31m---------------------------------------------------------------------------\u001b[0m",
      "\u001b[1;31mNameError\u001b[0m                                 Traceback (most recent call last)",
      "\u001b[1;32m<ipython-input-1-b2a020aeebc3>\u001b[0m in \u001b[0;36m<module>\u001b[1;34m\u001b[0m\n\u001b[0;32m     12\u001b[0m \u001b[1;31m# plt.show()\u001b[0m\u001b[1;33m\u001b[0m\u001b[1;33m\u001b[0m\u001b[1;33m\u001b[0m\u001b[0m\n\u001b[0;32m     13\u001b[0m \u001b[1;33m\u001b[0m\u001b[0m\n\u001b[1;32m---> 14\u001b[1;33m \u001b[0mdata\u001b[0m\u001b[1;33m[\u001b[0m\u001b[1;34m'library_index'\u001b[0m\u001b[1;33m]\u001b[0m\u001b[1;33m\u001b[0m\u001b[1;33m\u001b[0m\u001b[0m\n\u001b[0m",
      "\u001b[1;31mNameError\u001b[0m: name 'data' is not defined"
     ]
    }
   ],
   "source": [
    "# import pandas as pd\n",
    "# import seaborn as sns\n",
    "# import matplotlib.pyplot as plt\n",
    "# # df = pd.DataFrame(data,columns=mnist.feature_names)\n",
    "# # df['target']=target\n",
    "# # df['x']=x\n",
    "# # df['y']=y\n",
    "\n",
    "# plt.figure(figsize=(16,7))\n",
    "# sns.scatterplot(x='proximal_count',y='total_count',hue='library_index',palette=sns.color_palette(\"hls\",13),data=data,\n",
    "#                legend=\"full\")\n",
    "# plt.show()\n",
    "\n",
    "data['library_index']"
   ]
  },
  {
   "cell_type": "code",
   "execution_count": 3,
   "metadata": {},
   "outputs": [
    {
     "data": {
      "image/png": "[encoded data removed]",
      "text/plain": [
       "<Figure size 432x288 with 1 Axes>"
      ]
     },
     "metadata": {
      "needs_background": "light"
     },
     "output_type": "display_data"
    },
    {
     "data": {
      "text/plain": [
       "<Figure size 432x288 with 0 Axes>"
      ]
     },
     "metadata": {},
     "output_type": "display_data"
    }
   ],
   "source": [
    "# data.columns\n",
    "# print(data[data['frequency'] > 0.5]['frequency'].describe())\n",
    "# print(data[data['frequency'] <= 0.5]['frequency'].describe())\n",
    "# print(data['total_count'].describe())\n",
    "\n",
    "# data['sequence'].apply(len).describe()\n",
    "ac.DencityOfColumnPlotByDirection(data, 'frequency', directionColumn='direction', usageText='All')\n",
    "\n",
    "\n",
    "# ac.DencityOfColumnPlot(data, 'frequency')\n",
    "# data.head()\n",
    "\n",
    "\n",
    "# data['library'].unique()"
   ]
  },
  {
   "cell_type": "code",
   "execution_count": 4,
   "metadata": {},
   "outputs": [],
   "source": [
    "# ac.DencityOfColumnPlot(data, 'frequency')\n",
    "# ac.PlotBar(data, 'library', 'Anzahl generierte Sequenzen')\n",
    "\n",
    "# print(data.columns)\n",
    "\n",
    "# print(data['library'].unique())\n",
    "\n",
    "\n",
    "\n",
    "# print(plasmid_df.columns)\n",
    "# print(len(plasmid_df))\n",
    "# print(len(plasmid_df['library'].unique()))\n",
    "\n",
    "# # print(plasmid_df['seq'].head().apply(len))\n",
    "# # print(plasmid_df['padded_seq'].head().apply(len))\n",
    "\n",
    "# # print(plasmid_df['upstream_padding'].head().apply(len))\n",
    "# # print(plasmid_df['downstream_padding'].head().apply(len))\n",
    "\n",
    "# print(plasmid_df[['proximal_count', 'distal_count']].describe())\n"
   ]
  },
  {
   "cell_type": "code",
   "execution_count": 5,
   "metadata": {},
   "outputs": [
    {
     "name": "stdout",
     "output_type": "stream",
     "text": [
      "       proximal_count  distal_count\n",
      "count    3.818077e+06  3.818077e+06\n",
      "mean     4.089893e+01  2.894612e+01\n",
      "std      1.036306e+02  1.361727e+02\n",
      "min      0.000000e+00  0.000000e+00\n",
      "25%      4.000000e+00  0.000000e+00\n",
      "50%      1.800000e+01  3.000000e+00\n",
      "75%      4.400000e+01  1.000000e+01\n",
      "max      4.365000e+03  5.706000e+03\n"
     ]
    }
   ],
   "source": [
    "data['sublibrary_index'].unique()\n",
    "\n",
    "print(data[['proximal_count', 'distal_count']].describe())\n",
    "\n"
   ]
  }
 ],
 "metadata": {
  "kernelspec": {
   "display_name": "Python 3.7.9 64-bit",
   "language": "python",
   "name": "python3"
  },
  "language_info": {
   "codemirror_mode": {
    "name": "ipython",
    "version": 3
   },
   "file_extension": ".py",
   "mimetype": "text/x-python",
   "name": "python",
   "nbconvert_exporter": "python",
   "pygments_lexer": "ipython3",
   "version": "3.7.9"
  },
  "orig_nbformat": 4,
  "vscode": {
   "interpreter": {
    "hash": "9fdb4e86cf905439c190126afa5dfff7572cbc24e714a1fcd3617504d05d08cd"
   }
  }
 },
 "nbformat": 4,
 "nbformat_minor": 2
}

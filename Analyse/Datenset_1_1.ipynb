{
 "cells": [
  {
   "cell_type": "code",
   "execution_count": null,
   "metadata": {},
   "outputs": [],
   "source": [
    "import pandas as pd\n",
    "import numpy as np\n",
    "import os\n",
    "import analyseCommon as ac\n",
    "import matplotlib.pyplot as plt\n",
    "\n",
    "file_path = '../data'\n",
    "filePath = os.path.join(file_path, 'input_ML_tabula_Muris_modified.csv')\n",
    "data = pd.read_csv(filePath, sep=\",\")\n",
    "\n",
    "filePath = os.path.join(file_path, 'APAfreq.tsv')\n",
    "data1 = pd.read_csv(filePath, sep=\"\\t\")\n",
    "\n",
    "print(data.columns)\n",
    "print(data1.columns)\n",
    "\n",
    "# print(len(data['cleavage site'].unique()))\n",
    "# print(len(data['cleavage site']))\n",
    "\n",
    "# test = np.where(data['terminal exon'] == data1['terminal exon'], 'True', 'False')\n",
    "\n",
    "merged = data.merge(data1,how='outer',left_on=['terminal exon'],right_on=[\"terminal exon\"])\n",
    "\n",
    "\n",
    "print(data['sequence'].apply(len).describe())\n",
    "print(data1['sequence'].apply(len).describe())"
   ]
  },
  {
   "cell_type": "code",
   "execution_count": null,
   "metadata": {},
   "outputs": [],
   "source": [
    "# print(merged['cleavage site_x'].tail())\n",
    "# print(merged['cleavage site_y'].head())\n",
    "# print(len(merged))\n",
    "# print(len(merged[merged['cleavage site_x'] != 'NaN']))\n",
    "# print(len(merged[merged['cleavage site_y'] != 'NaN']))\n",
    "# print(len(merged[merged['cleavage site_y'] == merged['cleavage site_x']]))"
   ]
  },
  {
   "cell_type": "code",
   "execution_count": null,
   "metadata": {},
   "outputs": [],
   "source": [
    "# ac.PlotAnzahlTerminalExonsByChromosome(data)\n",
    "# ac.PlotAnzahlCleavageSitesByChromosome(data)\n",
    "# ac.AmountOfCGInSequence(data)\n",
    "# ac.CountOfCromosoneFigure(data)\n",
    "\n",
    "# ac.PlotAnzahlTerminalExonsByChromosome(data)\n",
    "# ac.PlotAnzahlCleavageSitesByChromosome(data)\n",
    "# ac.AmountOfCGInSequence(data)\n",
    "# ac.CountOfCromosoneFigure(data)\n",
    "\n",
    "# ac.DencityOfColumnPlot(data, 'frequency')\n",
    "\n",
    "# ac.DencityOfColumnPlotByDirection(data, 'frequency', directionColumn='direction', usageText='all')"
   ]
  },
  {
   "cell_type": "code",
   "execution_count": null,
   "metadata": {},
   "outputs": [],
   "source": [
    "ac.PlotNukleoideAroundCleavageSite(data)"
   ]
  },
  {
   "cell_type": "code",
   "execution_count": null,
   "metadata": {},
   "outputs": [],
   "source": [
    "data['sequenceA'] = data['sequence'].str.count(\"A\")\n",
    "data['sequenceG'] = data['sequence'].str.count(\"G\")\n",
    "data['sequenceT'] = data['sequence'].str.count(\"T\")\n",
    "data['sequenceC'] = data['sequence'].str.count(\"C\")\n",
    "\n",
    "data['ratioA'] = data['frequency'] * data['sequenceA']\n",
    "data['ratioG'] = data['frequency'] * data['sequenceG']\n",
    "data['ratioT'] = data['frequency'] * data['sequenceT']\n",
    "data['ratioC'] = data['frequency'] * data['sequenceC']\n",
    "\n",
    "plotData = [data['sequenceA'], data['sequenceG'], data['sequenceT'], data['sequenceC']]\n",
    "fig = plt.figure(figsize =(10, 7))\n",
    "ax = fig.add_axes([0, 0, 1, 1])\n",
    "ax.set_xticklabels(['sequenceA', 'sequenceG',\n",
    "                    'sequenceT', 'sequenceC'])\n",
    "# Creating plot\n",
    "bp = ax.boxplot(plotData)\n",
    "\n",
    "# show plot\n",
    "plt.show()\n",
    "\n",
    "# print(data[['sequenceA', 'sequenceG', 'sequenceT', 'sequenceC']].describe())\n",
    "# print(data[['ratioA', 'ratioG', 'ratioT', 'ratioC']].describe())\n",
    "\n",
    "ac.ScatterPlot(data, 'ratioA', 'frequency')\n",
    "ac.ScatterPlot(data, 'ratioG', 'frequency')\n",
    "ac.ScatterPlot(data, 'ratioT', 'frequency')\n",
    "ac.ScatterPlot(data, 'ratioC', 'frequency')"
   ]
  }
 ],
 "metadata": {
  "kernelspec": {
   "display_name": "Python 3.7.9 64-bit",
   "language": "python",
   "name": "python3"
  },
  "language_info": {
   "codemirror_mode": {
    "name": "ipython",
    "version": 3
   },
   "file_extension": ".py",
   "mimetype": "text/x-python",
   "name": "python",
   "nbconvert_exporter": "python",
   "pygments_lexer": "ipython3",
   "version": "3.7.9"
  },
  "orig_nbformat": 4,
  "vscode": {
   "interpreter": {
    "hash": "9fdb4e86cf905439c190126afa5dfff7572cbc24e714a1fcd3617504d05d08cd"
   }
  }
 },
 "nbformat": 4,
 "nbformat_minor": 2
}

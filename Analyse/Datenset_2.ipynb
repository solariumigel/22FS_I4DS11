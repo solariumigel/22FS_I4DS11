{
 "cells": [
  {
   "cell_type": "code",
   "execution_count": null,
   "metadata": {},
   "outputs": [],
   "source": [
    "import pandas as pd\n",
    "import os\n",
    "import analyseCommon as ac\n",
    "\n",
    "def getMiddleElement(id):\n",
    "    return float(id.split(':')[1])\n",
    "\n",
    "def getDirection(row):\n",
    "    return row.split(':')[2]\n",
    "\n",
    "file_path = '../data'\n",
    "\n",
    "filePath = os.path.join(file_path, 'prox_dist_pas_relUsage_flanks.hg38.tsv')\n",
    "data = pd.read_csv(filePath, sep=\"\\t\")\n",
    "data['direction_prox'] = data['id_prox'].apply(getDirection)\n",
    "data['direction_dist'] = data['id_dist'].apply(getDirection)\n",
    "print(data.columns)\n",
    "\n",
    "proxData = pd.DataFrame()\n",
    "proxData['sequence'] = data['upstream_prox'] + data['downstream_prox']\n",
    "proxData['frequency'] =  data['usage_prox']\n",
    "proxData['direction'] = data['id_prox'].apply(getDirection)\n",
    "\n",
    "distData = pd.DataFrame()\n",
    "distData['sequence'] = data['upstream_dist'] + data['downstream_dist']\n",
    "distData['frequency'] = data['usage_dist']\n",
    "distData['direction'] = data['id_prox'].apply(getDirection)\n",
    "\n",
    "datacopy = pd.concat([proxData, distData])\n",
    "\n",
    "datacopy.reindex()\n",
    "\n",
    "ac.PlotNukleoideAroundCleavageSite(datacopy)"
   ]
  },
  {
   "cell_type": "code",
   "execution_count": null,
   "metadata": {},
   "outputs": [],
   "source": [
    "\n",
    "ac.PlotAnzahlTerminalExonsByChromosome(datacopy)\n",
    "ac.PlotAnzahlCleavageSitesByChromosome(datacopy)\n",
    "ac.AmountOfCGInSequence(datacopy)\n",
    "ac.CountOfCromosoneFigure(datacopy)\n",
    "\n",
    "ac.PlotAnzahlTerminalExonsByChromosome(datacopy)\n",
    "ac.PlotAnzahlCleavageSitesByChromosome(datacopy)\n",
    "ac.AmountOfCGInSequence(datacopy)\n",
    "ac.CountOfCromosoneFigure(datacopy)\n",
    "\n",
    "ac.DencityOfColumnPlot(datacopy, 'frequency')\n",
    "\n",
    "ac.DencityOfColumnPlotByDirection(data, 'usage_prox', directionColumn='direction_prox', usageText='proximal')\n",
    "ac.DencityOfColumnPlotByDirection(data, 'usage_dist', directionColumn='direction_dist', usageText='distal')"
   ]
  }
 ],
 "metadata": {
  "kernelspec": {
   "display_name": "Python 3.7.9 64-bit",
   "language": "python",
   "name": "python3"
  },
  "language_info": {
   "codemirror_mode": {
    "name": "ipython",
    "version": 3
   },
   "file_extension": ".py",
   "mimetype": "text/x-python",
   "name": "python",
   "nbconvert_exporter": "python",
   "pygments_lexer": "ipython3",
   "version": "3.7.9"
  },
  "orig_nbformat": 4,
  "vscode": {
   "interpreter": {
    "hash": "9fdb4e86cf905439c190126afa5dfff7572cbc24e714a1fcd3617504d05d08cd"
   }
  }
 },
 "nbformat": 4,
 "nbformat_minor": 2
}

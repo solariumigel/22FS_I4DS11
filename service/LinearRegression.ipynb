{
 "cells": [
  {
   "cell_type": "code",
   "execution_count": null,
   "metadata": {},
   "outputs": [],
   "source": [
    "#Initialize hexamer count data generator (separated by USE, CSE and DSE regions)\n",
    "from pathlib import Path\n",
    "import pandas as pd\n",
    "import numpy as np\n",
    "import os\n",
    "import glob\n",
    "from regression.RegressionHelper import *\n",
    "from regression.datenProvider import *\n",
    "\n",
    "def getDirection(row):\n",
    "    return row.split(':')[2]\n",
    "\n",
    "test_set_size = 0.2\n",
    "outputPath = '../output/own/linearRegressionteste'\n",
    "model_version = '6mer_v_pasaligned_margin'\n",
    "sampleSize = None\n",
    "mask = 1\n",
    "\n",
    "files = glob.glob(outputPath + '/*')\n",
    "for f in files:\n",
    "    os.remove(f)\n",
    "\n",
    "print('{} files deleted in foder \"{}\"'.format(len(files), outputPath))"
   ]
  },
  {
   "cell_type": "code",
   "execution_count": null,
   "metadata": {},
   "outputs": [],
   "source": [
    "data_version = '1'\n",
    "\n",
    "data = pd.read_csv(str(Path('..\\data\\APAfreq.tsv')), sep=\"\\t\")\n",
    "\n",
    "TrainAndPredict(data, test_set_size, outputPath, featureDefinition_withoutLibrary, CreateDataGenerator_WithoutLibrary, data_version=data_version+'_withoutLibrary', model_version=model_version, sampleSize=sampleSize)\n",
    "\n",
    "data['library_index'] = mask\n",
    "TrainAndPredict(data, test_set_size, outputPath, featureDefinition, CreateDataGenerator, data_version=data_version, model_version=model_version, sampleSize=sampleSize)\n"
   ]
  },
  {
   "cell_type": "code",
   "execution_count": null,
   "metadata": {},
   "outputs": [],
   "source": [
    "data_version = '1_1'\n",
    "\n",
    "data = pd.read_csv(str(Path('..\\data\\input_ML_tabula_Muris_modified.csv')), sep=\",\")\n",
    "\n",
    "TrainAndPredict(data, test_set_size, outputPath, featureDefinition_withoutLibrary, CreateDataGenerator_WithoutLibrary, data_version=data_version+'_withoutLibrary', model_version=model_version, sampleSize=sampleSize)\n",
    "\n",
    "data['library_index'] = mask\n",
    "TrainAndPredict(data, test_set_size, outputPath, featureDefinition, CreateDataGenerator, data_version=data_version, model_version=model_version, sampleSize=sampleSize)"
   ]
  },
  {
   "cell_type": "code",
   "execution_count": null,
   "metadata": {},
   "outputs": [],
   "source": [
    "data_version = '2'\n",
    "\n",
    "data = pd.read_csv(str(Path('..\\data\\prox_dist_pas_relUsage_flanks.hg38.tsv')), sep=\"\\t\")\n",
    "\n",
    "proxData = pd.DataFrame()\n",
    "proxData['sequence'] = data['upstream_prox'] + data['downstream_prox']\n",
    "proxData['frequency'] =  data['usage_prox']\n",
    "proxData['direction'] = data['id_prox'].apply(getDirection)\n",
    "\n",
    "distData = pd.DataFrame()\n",
    "distData['sequence'] = data['upstream_dist'] + data['downstream_dist']\n",
    "distData['frequency'] = data['usage_dist']\n",
    "distData['direction'] = data['id_prox'].apply(getDirection)\n",
    "\n",
    "datacopy = pd.concat([proxData, distData])\n",
    "TrainAndPredict(datacopy, test_set_size, outputPath, featureDefinition_withoutLibrary, CreateDataGenerator_WithoutLibrary, data_version=data_version+'_withoutLibrary', model_version=model_version, sampleSize=sampleSize)\n",
    "\n",
    "datacopy['library_index'] = mask\n",
    "TrainAndPredict(datacopy, test_set_size, outputPath, featureDefinition, CreateDataGenerator, data_version=data_version, model_version=model_version, sampleSize=sampleSize)"
   ]
  },
  {
   "cell_type": "code",
   "execution_count": null,
   "metadata": {},
   "outputs": [],
   "source": [
    "from common.CountExtractor import CountExtractor\n",
    "\n",
    "data_version = 'Grundarbeit_50000'\n",
    "\n",
    "data = pd.read_csv(str(Path('../data/apa_plasmid_data_plasmid_df.csv')), sep=\"\\t\")\n",
    "\n",
    "data['frequency'] = data['proximal_count'] / data['total_count']\n",
    "data['sequence'] = data['seq']\n",
    "\n",
    "TrainAndPredict(data, test_set_size, outputPath, featureDefinition, CreateDataGenerator, data_version=data_version, model_version=model_version, sampleSize=50000)\n",
    "# TrainAndPredict(data, test_set_size, outputPath, featureDefinition_withoutLibrary, CreateDataGenerator_WithoutLibrary, data_version=data_version+'_withoutLibrary', model_version=model_version, sampleSize=500000)\n",
    "\n",
    "\n",
    "data_version = data_version + '_withoutmask'\n",
    "data.pop('mask')\n",
    "TrainAndPredict(data, test_set_size, outputPath, featureDefinition, CreateDataGenerator, data_version=data_version, model_version=model_version, sampleSize=50000)\n",
    "TrainAndPredict(data, test_set_size, outputPath, featureDefinition_withoutLibrary, CreateDataGenerator_WithoutLibrary, data_version=data_version+'_withoutLibrary', model_version=model_version, sampleSize=500000)\n",
    "# TrainAndPredict(data, test_set_size, outputPath, featureDefinition, CreateDataGenerator, data_version=data_version+'500000', model_version=model_version, sampleSize=50000)\n",
    "# TrainAndPredict(data, test_set_size, outputPath, featureDefinition_withoutLibrary, CreateDataGenerator_WithoutLibrary, data_version=data_version+'500000_withoutLibrary', model_version=model_version, sampleSize=500000)"
   ]
  }
 ],
 "metadata": {
  "kernelspec": {
   "display_name": "Python 3.7.9 64-bit",
   "language": "python",
   "name": "python3"
  },
  "language_info": {
   "codemirror_mode": {
    "name": "ipython",
    "version": 3
   },
   "file_extension": ".py",
   "mimetype": "text/x-python",
   "name": "python",
   "nbconvert_exporter": "python",
   "pygments_lexer": "ipython3",
   "version": "3.7.9"
  },
  "orig_nbformat": 4,
  "vscode": {
   "interpreter": {
    "hash": "9fdb4e86cf905439c190126afa5dfff7572cbc24e714a1fcd3617504d05d08cd"
   }
  }
 },
 "nbformat": 4,
 "nbformat_minor": 2
}

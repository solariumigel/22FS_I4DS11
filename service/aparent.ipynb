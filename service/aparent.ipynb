{
 "cells": [
  {
   "cell_type": "code",
   "execution_count": null,
   "metadata": {},
   "outputs": [],
   "source": [
    "from __future__ import print_function\n",
    "import tensorflow as tf\n",
    "import os\n",
    "import numpy as np\n",
    "import pandas as pd\n",
    "from common.PlotHelper import plotLossfunctionPerEpochs, plotScatterWithAxis\n",
    "from neuralNetwork.KerasModelHelper import *\n",
    "import random\n",
    "\n",
    "basePath = \"../service\"\n",
    "dataPath = \"../data/\"\n",
    "sampleSize = None\n",
    "\n",
    "#Trainer parameters\n",
    "epochs = 20\n",
    "batch_size = 21\n",
    "valid_set_size = 0.05\n",
    "test_set_size = 0.05\n",
    "\n",
    "outputPath = \"../output/own/NeuralNetwork/20Epoch\"\n",
    "model_version = 'aparent'\n",
    "\n",
    "def getDirection(row):\n",
    "    return row.split(':')[2]"
   ]
  },
  {
   "cell_type": "code",
   "execution_count": null,
   "metadata": {},
   "outputs": [],
   "source": [
    "from neuralNetwork.dataProvider_grundlage import *\n",
    "from neuralNetwork.aparent_data_plasmid_grundlage import *\n",
    "from neuralNetwork.aparent_model_plasmid_large_lessdropout import *\n",
    "\n",
    "data_version = 'GrundlagenArbeit_1_neuTrainiert'\n",
    "seq_startpos=180\n",
    "seq_length=205\n",
    "sampleSize = 50000\n",
    "\n",
    "filePath = os.path.join(dataPath, 'apa_plasmid_data')\n",
    "data = load(filePath)\n",
    "\n",
    "datagenerator = load_data_prediction(data=data, seq_length=seq_length, seq_startpos=seq_startpos, batch_size=batch_size, valid_set_size=valid_set_size, test_set_size=test_set_size, sampleSize=sampleSize)\n",
    "\n",
    "model_prefix, model = load_aparent_model_Plasmid(seq_length=seq_length)\n",
    "model = LoadAndTrain(data=datagenerator, model_prefix=model_prefix, model=model, output_Path=outputPath, model_version=model_version, data_version=data_version, epochs=epochs)\n",
    "# model = loadModel(outputPath + '/saved_models/aparent_plasmid_iso_cut_distalpas_large_lessdropout_aparent.h5')\n",
    "predict(model, datagenerator, outputPath, model_version, data_version)"
   ]
  },
  {
   "cell_type": "code",
   "execution_count": null,
   "metadata": {},
   "outputs": [],
   "source": [
    "# from neuralNetwork.dataProvider import *\n",
    "# from neuralNetwork.aparent_data_plasmid_test import *\n",
    "\n",
    "# data_version = 'GrundlagenArbeit_1'\n",
    "# seq_startpos=180\n",
    "# seq_length=205\n",
    "# sampleSize = 500000\n",
    "# outputPath = \"../output/own/NeuralNetwork/{}\".format(data_version)\n",
    "\n",
    "# filePath = os.path.join(dataPath, 'apa_plasmid_data')\n",
    "# data = load(filePath)\n",
    "\n",
    "# datagenerator = load_data_prediction(data=data, seq_length=seq_length, seq_startpos=seq_startpos, batch_size=batch_size, valid_set_size=valid_set_size, test_set_size=test_set_size, sampleSize=sampleSize)\n",
    "\n",
    "# model = loadModel('../output/aparent_plasmid_iso_cut_distalpas_large_lessdropout_all_libs_no_sampleweights.h5')\n",
    "# predict(model, datagenerator, outputPath, model_version, data_version)"
   ]
  },
  {
   "cell_type": "code",
   "execution_count": null,
   "metadata": {},
   "outputs": [],
   "source": [
    "from neuralNetwork.aparent_data_plasmid_datenset import *\n",
    "from neuralNetwork.aparent_model_plasmid_large_lessdropout import *\n",
    "\n",
    "data_version = 'Datenset1'\n",
    "file_name='input_ML_tabula_Muris_modified.csv'\n",
    "\n",
    "sampleSize = None\n",
    "seq_length = 400\n",
    "seq_startpos = 0\n",
    "\n",
    "filePath = os.path.join(dataPath, file_name)\n",
    "data = pd.read_csv(filePath, sep=\",\")\n",
    "\n",
    "datagenerator = load_data_prediction(data=data, seq_length=seq_length, seq_startpos=seq_startpos, batch_size=batch_size, valid_set_size=valid_set_size, test_set_size=test_set_size, sampleSize=sampleSize)\n",
    "\n",
    "model_prefix, model = load_aparent_model_Plasmid_withoutLibrary(seq_length=seq_length)\n",
    "model = LoadAndTrain(data=datagenerator, model_prefix=model_prefix, model=model, output_Path=outputPath, model_version=model_version, data_version=data_version, epochs=epochs)\n",
    "predict(model, datagenerator, outputPath, model_version, data_version)"
   ]
  },
  {
   "cell_type": "code",
   "execution_count": null,
   "metadata": {},
   "outputs": [],
   "source": [
    "# from neuralNetwork.aparent_data_plasmid_datenset import *\n",
    "# from neuralNetwork.aparent_model_plasmid_large_lessdropout import *\n",
    "# data_version = 'Datenset1_VordatenTrainiert'\n",
    "# file_name='input_ML_tabula_Muris_modified.csv'\n",
    "# filePath = os.path.join(dataPath, file_name)\n",
    "# data = pd.read_csv(filePath, sep=\",\")\n",
    "\n",
    "# seq_length = 205\n",
    "# seq_startpos = 100\n",
    "\n",
    "# datagenerator = load_data_prediction(data=data, seq_length=seq_length, seq_startpos=seq_startpos, batch_size=batch_size, valid_set_size=valid_set_size, test_set_size=test_set_size, sampleSize=sampleSize)\n",
    "\n",
    "\n",
    "# plasmid_model = loadModel('../output/aparent_plasmid_iso_cut_distalpas_large_lessdropout_all_libs_no_sampleweights.h5')\n",
    "# predict(model, datagenerator, outputPath, model_version, data_version)"
   ]
  },
  {
   "cell_type": "code",
   "execution_count": null,
   "metadata": {},
   "outputs": [],
   "source": [
    "from neuralNetwork.aparent_data_plasmid_datenset import *\n",
    "from neuralNetwork.aparent_model_plasmid_large_lessdropout import *\n",
    "\n",
    "data_version = 'Datenset2'\n",
    "file_name='prox_dist_pas_relUsage_flanks.hg38.tsv'\n",
    "sampleSize=None\n",
    "seq_length = 400\n",
    "seq_startpos = 0\n",
    "\n",
    "filePath = os.path.join(dataPath, file_name)\n",
    "data = pd.read_csv(filePath, sep=\"\\t\")\n",
    "\n",
    "proxData = pd.DataFrame()\n",
    "proxData['sequence'] = data['upstream_prox'] + data['downstream_prox']\n",
    "proxData['frequency'] =  data['usage_prox']\n",
    "proxData['direction'] = data['id_prox'].apply(getDirection)\n",
    "\n",
    "distData = pd.DataFrame()\n",
    "distData['sequence'] = data['upstream_dist'] + data['downstream_dist']\n",
    "distData['frequency'] = data['usage_dist']\n",
    "distData['direction'] = data['id_prox'].apply(getDirection)\n",
    "\n",
    "datacopy = pd.concat([proxData, distData])\n",
    "\n",
    "datagenerator = load_data_prediction(data=datacopy, seq_length=seq_length, seq_startpos=seq_startpos, batch_size=batch_size, valid_set_size=valid_set_size, test_set_size=test_set_size, sampleSize=sampleSize)\n",
    "\n",
    "model_prefix, model = load_aparent_model_Plasmid_withoutLibrary(seq_length=seq_length)\n",
    "model = LoadAndTrain(data=datagenerator, model_prefix=model_prefix, model=model, output_Path=outputPath, model_version=model_version, data_version=data_version, epochs=epochs)\n",
    "predict(model, datagenerator, outputPath, model_version, data_version)"
   ]
  }
 ],
 "metadata": {
  "kernelspec": {
   "display_name": "Python 3.7.9 64-bit",
   "language": "python",
   "name": "python3"
  },
  "language_info": {
   "codemirror_mode": {
    "name": "ipython",
    "version": 3
   },
   "file_extension": ".py",
   "mimetype": "text/x-python",
   "name": "python",
   "nbconvert_exporter": "python",
   "pygments_lexer": "ipython3",
   "version": "3.7.9"
  },
  "orig_nbformat": 4,
  "vscode": {
   "interpreter": {
    "hash": "9fdb4e86cf905439c190126afa5dfff7572cbc24e714a1fcd3617504d05d08cd"
   }
  }
 },
 "nbformat": 4,
 "nbformat_minor": 2
}
